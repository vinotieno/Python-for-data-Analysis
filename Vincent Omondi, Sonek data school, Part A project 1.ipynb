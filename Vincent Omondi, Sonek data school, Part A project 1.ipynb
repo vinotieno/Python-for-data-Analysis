{
 "cells": [
  {
   "cell_type": "markdown",
   "id": "6589c41d-f4a9-4959-9329-5eebb2368b46",
   "metadata": {},
   "source": [
    "# Sonek Python Project"
   ]
  },
  {
   "cell_type": "markdown",
   "id": "54903dca-cf00-47b5-99d7-24a535fe6cf2",
   "metadata": {},
   "source": [
    "# 1. Program that Asks the User for their Current Age and Tells Them How Old They Will Be in a Year"
   ]
  },
  {
   "cell_type": "code",
   "execution_count": 2,
   "id": "db025772-22e4-4eea-8306-50357858b5f2",
   "metadata": {},
   "outputs": [
    {
     "name": "stdin",
     "output_type": "stream",
     "text": [
      "Please enter your current age:  24\n"
     ]
    },
    {
     "name": "stdout",
     "output_type": "stream",
     "text": [
      "You will be 25 years old in a year.\n"
     ]
    }
   ],
   "source": [
    "def age_in_a_year():\n",
    "    current_age = int(input(\"Please enter your current age: \"))\n",
    "    age_next_year = current_age + 1\n",
    "    print(f\"You will be {age_next_year} years old in a year.\")\n",
    "\n",
    "age_in_a_year()\n"
   ]
  },
  {
   "cell_type": "code",
   "execution_count": null,
   "id": "da003ab9-c122-4076-87d5-e64eb11e047e",
   "metadata": {},
   "outputs": [],
   "source": []
  },
  {
   "cell_type": "code",
   "execution_count": null,
   "id": "ccbe34cf-edb8-47b3-a0e8-ae8a3c14815a",
   "metadata": {},
   "outputs": [],
   "source": []
  },
  {
   "cell_type": "code",
   "execution_count": 3,
   "id": "e15dc87b-5f48-4596-a414-913ffa514159",
   "metadata": {},
   "outputs": [
    {
     "name": "stdin",
     "output_type": "stream",
     "text": [
      "What is your current age?  24\n"
     ]
    },
    {
     "name": "stdout",
     "output_type": "stream",
     "text": [
      "In a year, you will be 25 years old.\n"
     ]
    }
   ],
   "source": [
    "current_age = int(input(\"What is your current age? \"))\n",
    "age_in_a_year = current_age + 1\n",
    "print(f\"In a year, you will be {age_in_a_year} years old.\")"
   ]
  },
  {
   "cell_type": "code",
   "execution_count": null,
   "id": "64cd00bf-2283-4a9e-a7a9-2e59be514531",
   "metadata": {},
   "outputs": [],
   "source": []
  },
  {
   "cell_type": "code",
   "execution_count": null,
   "id": "4d8f168b-db78-4748-81c0-9b58979e3573",
   "metadata": {},
   "outputs": [],
   "source": []
  },
  {
   "cell_type": "markdown",
   "id": "4686270b-b82d-4048-9e98-f563b6b842ab",
   "metadata": {},
   "source": [
    "# 2. Python Function that Asks the User for Their Total Marks of a Subject and Tells Them What Their Grade Is"
   ]
  },
  {
   "cell_type": "code",
   "execution_count": 4,
   "id": "9cdf9514-6062-44e7-a99c-b7e9a4361279",
   "metadata": {},
   "outputs": [
    {
     "name": "stdin",
     "output_type": "stream",
     "text": [
      "Enter your total marks for the subject:  66\n"
     ]
    },
    {
     "name": "stdout",
     "output_type": "stream",
     "text": [
      "Your grade is: B\n"
     ]
    }
   ],
   "source": [
    "def get_grade():\n",
    "    marks = float(input(\"Enter your total marks for the subject: \"))\n",
    "    if marks >= 70:\n",
    "        grade = 'A'\n",
    "    elif marks >= 60:\n",
    "        grade = 'B'\n",
    "    elif marks >= 50:\n",
    "        grade = 'C'\n",
    "    elif marks >= 40:\n",
    "        grade = 'D'\n",
    "    else:\n",
    "        grade = 'F'\n",
    "    print(f\"Your grade is: {grade}\")\n",
    "\n",
    "get_grade()\n"
   ]
  },
  {
   "cell_type": "code",
   "execution_count": null,
   "id": "b1a4e330-e25e-4ba4-b68c-1342f76ee708",
   "metadata": {},
   "outputs": [],
   "source": []
  },
  {
   "cell_type": "code",
   "execution_count": null,
   "id": "96987638-c717-4bde-a879-864d04eaf4c3",
   "metadata": {},
   "outputs": [],
   "source": []
  },
  {
   "cell_type": "code",
   "execution_count": 5,
   "id": "5ed70616-e3cb-4a14-a7bf-cceadd5202e0",
   "metadata": {},
   "outputs": [
    {
     "name": "stdin",
     "output_type": "stream",
     "text": [
      "What is your total marks for the subject?  30\n"
     ]
    },
    {
     "name": "stdout",
     "output_type": "stream",
     "text": [
      "Your grade is: F\n"
     ]
    }
   ],
   "source": [
    "def get_grade(total_marks):\n",
    "    if total_marks >= 90:\n",
    "        grade = \"A\"\n",
    "    elif total_marks >= 80:\n",
    "        grade = \"B\"\n",
    "    elif total_marks >= 70:\n",
    "        grade = \"C\"\n",
    "    elif total_marks >= 60:\n",
    "        grade = \"D\"\n",
    "    else:\n",
    "        grade = \"F\"\n",
    "    return grade\n",
    "\n",
    "total_marks = float(input(\"What is your total marks for the subject? \"))\n",
    "print(f\"Your grade is: {get_grade(total_marks)}\")"
   ]
  },
  {
   "cell_type": "code",
   "execution_count": null,
   "id": "3b20da7e-8983-4226-931e-051b6af67afb",
   "metadata": {},
   "outputs": [],
   "source": []
  },
  {
   "cell_type": "code",
   "execution_count": null,
   "id": "613e7c37-a11f-4eda-9c52-d7616b6d3acd",
   "metadata": {},
   "outputs": [],
   "source": []
  },
  {
   "cell_type": "code",
   "execution_count": null,
   "id": "59769e23-9aaa-496f-b7c4-96223d6f440d",
   "metadata": {},
   "outputs": [],
   "source": []
  },
  {
   "cell_type": "markdown",
   "id": "af8ccbc3-1423-4177-b05d-2af78c77d46a",
   "metadata": {},
   "source": [
    "# 3. Python Function that Asks the User for Three Numbers and Outputs Them in Ascending Numerical Order"
   ]
  },
  {
   "cell_type": "code",
   "execution_count": 6,
   "id": "dded7aa8-8242-40bc-ba0a-e4e9856a984d",
   "metadata": {},
   "outputs": [
    {
     "name": "stdin",
     "output_type": "stream",
     "text": [
      "Enter number 1:  5\n",
      "Enter number 2:  3\n",
      "Enter number 3:  6\n"
     ]
    },
    {
     "name": "stdout",
     "output_type": "stream",
     "text": [
      "Numbers in ascending order: [3.0, 5.0, 6.0]\n"
     ]
    }
   ],
   "source": [
    "def sort_three_numbers():\n",
    "    numbers = []\n",
    "    for i in range(3):\n",
    "        number = float(input(f\"Enter number {i+1}: \"))\n",
    "        numbers.append(number)\n",
    "    numbers.sort()\n",
    "    print(\"Numbers in ascending order:\", numbers)\n",
    "\n",
    "sort_three_numbers()\n"
   ]
  },
  {
   "cell_type": "code",
   "execution_count": null,
   "id": "294e4663-23a0-40dc-a113-0e8994fbc42b",
   "metadata": {},
   "outputs": [],
   "source": []
  },
  {
   "cell_type": "code",
   "execution_count": null,
   "id": "2fd3a6dd-d54c-417a-88df-272dc7552ff5",
   "metadata": {},
   "outputs": [],
   "source": []
  },
  {
   "cell_type": "code",
   "execution_count": 7,
   "id": "d926b628-dba6-43e9-9f86-7db4fc354103",
   "metadata": {},
   "outputs": [
    {
     "name": "stdin",
     "output_type": "stream",
     "text": [
      "Enter the first number:  5\n",
      "Enter the second number:  8\n",
      "Enter the third number:  7\n"
     ]
    },
    {
     "name": "stdout",
     "output_type": "stream",
     "text": [
      "The numbers in ascending order are: [5.0, 7.0, 8.0]\n"
     ]
    }
   ],
   "source": [
    "def sort_numbers(num1, num2, num3):\n",
    "    numbers = [num1, num2, num3]\n",
    "    numbers.sort()\n",
    "    return numbers\n",
    "\n",
    "num1 = float(input(\"Enter the first number: \"))\n",
    "num2 = float(input(\"Enter the second number: \"))\n",
    "num3 = float(input(\"Enter the third number: \"))\n",
    "\n",
    "sorted_numbers = sort_numbers(num1, num2, num3)\n",
    "print(f\"The numbers in ascending order are: {sorted_numbers}\")"
   ]
  },
  {
   "cell_type": "code",
   "execution_count": null,
   "id": "7eae50f2-418d-4979-b88a-428b50b29690",
   "metadata": {},
   "outputs": [],
   "source": []
  },
  {
   "cell_type": "code",
   "execution_count": null,
   "id": "c0404f51-95e0-45d4-8e71-3aa4fa421d26",
   "metadata": {},
   "outputs": [],
   "source": []
  },
  {
   "cell_type": "code",
   "execution_count": null,
   "id": "e251135c-76cb-4282-b3df-1599951255e0",
   "metadata": {},
   "outputs": [],
   "source": []
  },
  {
   "cell_type": "markdown",
   "id": "dc3be667-c770-46ec-8702-e3295788e81a",
   "metadata": {},
   "source": [
    "# 4. Program that Tells the Smallest and Largest Numbers in a List Input by the User"
   ]
  },
  {
   "cell_type": "code",
   "execution_count": 9,
   "id": "4c462086-f8ae-4367-8738-a31df1119fd2",
   "metadata": {},
   "outputs": [
    {
     "name": "stdin",
     "output_type": "stream",
     "text": [
      "Enter a list of numbers separated by spaces:  44\n"
     ]
    },
    {
     "name": "stdout",
     "output_type": "stream",
     "text": [
      "The smallest number is: 44.0\n",
      "The largest number is: 44.0\n"
     ]
    }
   ],
   "source": [
    "def find_min_max():\n",
    "    numbers = input(\"Enter a list of numbers separated by spaces: \").split()\n",
    "    numbers = [float(number) for number in numbers]\n",
    "    smallest = min(numbers)\n",
    "    largest = max(numbers)\n",
    "    print(f\"The smallest number is: {smallest}\")\n",
    "    print(f\"The largest number is: {largest}\")\n",
    "\n",
    "find_min_max()\n"
   ]
  },
  {
   "cell_type": "code",
   "execution_count": null,
   "id": "0fa3b2e6-1cb7-4a5e-afcf-821e2b94b23d",
   "metadata": {},
   "outputs": [],
   "source": []
  },
  {
   "cell_type": "code",
   "execution_count": null,
   "id": "f4873ee0-9500-4e79-862d-ff193a9f55d6",
   "metadata": {},
   "outputs": [],
   "source": []
  },
  {
   "cell_type": "code",
   "execution_count": 10,
   "id": "4de548e7-3b67-42a6-a7b6-cbc2565c463d",
   "metadata": {},
   "outputs": [
    {
     "name": "stdin",
     "output_type": "stream",
     "text": [
      "Enter a list of numbers separated by spaces:  5\n"
     ]
    },
    {
     "name": "stdout",
     "output_type": "stream",
     "text": [
      "The smallest number in the list is: 5.0\n",
      "The largest number in the list is: 5.0\n"
     ]
    }
   ],
   "source": [
    "user_input = input(\"Enter a list of numbers separated by spaces: \")\n",
    "numbers = [float(x) for x in user_input.split()]\n",
    "\n",
    "smallest = min(numbers)\n",
    "largest = max(numbers)\n",
    "\n",
    "print(f\"The smallest number in the list is: {smallest}\")\n",
    "print(f\"The largest number in the list is: {largest}\")"
   ]
  },
  {
   "cell_type": "code",
   "execution_count": null,
   "id": "d4835ed1-5122-492c-80e3-18bb5805b7e0",
   "metadata": {},
   "outputs": [],
   "source": []
  },
  {
   "cell_type": "code",
   "execution_count": null,
   "id": "c48d32df-e0e8-44e0-9ac2-bc8920476541",
   "metadata": {},
   "outputs": [],
   "source": []
  },
  {
   "cell_type": "code",
   "execution_count": null,
   "id": "4de1135d-3e4e-4b2e-9b06-fec5766822fc",
   "metadata": {},
   "outputs": [],
   "source": []
  },
  {
   "cell_type": "markdown",
   "id": "098b4f0e-2214-4394-9fef-123a4ad835d8",
   "metadata": {},
   "source": [
    "# 5. Program that Asks the User for a String and Tells Whether or Not the String Is a Palindrome"
   ]
  },
  {
   "cell_type": "code",
   "execution_count": 12,
   "id": "a438a4dd-ba89-4e67-aaee-7eb78feb9d00",
   "metadata": {},
   "outputs": [
    {
     "name": "stdin",
     "output_type": "stream",
     "text": [
      "Enter a string:  4\n"
     ]
    },
    {
     "name": "stdout",
     "output_type": "stream",
     "text": [
      "The string is a palindrome.\n"
     ]
    }
   ],
   "source": [
    "def check_palindrome():\n",
    "    user_string = input(\"Enter a string: \").strip()\n",
    "    if user_string == user_string[::-1]:\n",
    "        print(\"The string is a palindrome.\")\n",
    "    else:\n",
    "        print(\"The string is not a palindrome.\")\n",
    "\n",
    "check_palindrome()\n"
   ]
  },
  {
   "cell_type": "code",
   "execution_count": null,
   "id": "8baa2969-2e4d-451b-a1ff-9541c1663256",
   "metadata": {},
   "outputs": [],
   "source": []
  },
  {
   "cell_type": "code",
   "execution_count": null,
   "id": "8b791365-c75c-4148-9a33-761869b71798",
   "metadata": {},
   "outputs": [],
   "source": []
  },
  {
   "cell_type": "code",
   "execution_count": 13,
   "id": "73c80565-1890-4f42-bd34-b574b6a4bce8",
   "metadata": {},
   "outputs": [
    {
     "name": "stdin",
     "output_type": "stream",
     "text": [
      "Enter a string:  2\n"
     ]
    },
    {
     "name": "stdout",
     "output_type": "stream",
     "text": [
      "The string '2' is a palindrome.\n"
     ]
    }
   ],
   "source": [
    "def is_palindrome(string):\n",
    "    # Remove any spaces and convert to lowercase\n",
    "    string = ''.join(string.lower().split())\n",
    "    return string == string[::-1]\n",
    "\n",
    "user_string = input(\"Enter a string: \")\n",
    "if is_palindrome(user_string):\n",
    "    print(f\"The string '{user_string}' is a palindrome.\")\n",
    "else:\n",
    "    print(f\"The string '{user_string}' is not a palindrome.\")"
   ]
  },
  {
   "cell_type": "code",
   "execution_count": null,
   "id": "4510459a-a306-4d46-aab3-5362b53e306b",
   "metadata": {},
   "outputs": [],
   "source": []
  },
  {
   "cell_type": "code",
   "execution_count": null,
   "id": "5e3771ff-a5d5-49e7-8d5c-4e574eecd422",
   "metadata": {},
   "outputs": [],
   "source": []
  },
  {
   "cell_type": "code",
   "execution_count": null,
   "id": "af1aef4f-f902-4126-997a-66caa82abd6f",
   "metadata": {},
   "outputs": [],
   "source": []
  },
  {
   "cell_type": "markdown",
   "id": "45038f7a-e3c6-4eac-98ca-a34f78ed64b2",
   "metadata": {},
   "source": [
    "# Import a csv file of your choice (Has to be related to trade, agriculture or tourism). Create a code to output the top 10 scorers of a column of your dataset (This may be something like the top 10 in terms of salary earned or whatever else your dataset has)."
   ]
  },
  {
   "cell_type": "code",
   "execution_count": 15,
   "id": "8ae2672a-c1fb-481a-8630-45e19ed51966",
   "metadata": {},
   "outputs": [],
   "source": [
    "import pandas as pd\n",
    "\n",
    "# Load the dataset\n",
    "df = pd.read_csv(r'C:\\Users\\ADMIN\\Downloads\\Projects Reviews\\python datasets and projects\\archive (1)\\World Indicators.csv')\n"
   ]
  },
  {
   "cell_type": "code",
   "execution_count": 16,
   "id": "40e517c8-1fcd-4e8d-a681-9b71afb0c481",
   "metadata": {},
   "outputs": [
    {
     "data": {
      "text/html": [
       "<div>\n",
       "<style scoped>\n",
       "    .dataframe tbody tr th:only-of-type {\n",
       "        vertical-align: middle;\n",
       "    }\n",
       "\n",
       "    .dataframe tbody tr th {\n",
       "        vertical-align: top;\n",
       "    }\n",
       "\n",
       "    .dataframe thead th {\n",
       "        text-align: right;\n",
       "    }\n",
       "</style>\n",
       "<table border=\"1\" class=\"dataframe\">\n",
       "  <thead>\n",
       "    <tr style=\"text-align: right;\">\n",
       "      <th></th>\n",
       "      <th>Birth Rate</th>\n",
       "      <th>Business Tax Rate</th>\n",
       "      <th>CO2 Emissions</th>\n",
       "      <th>Country</th>\n",
       "      <th>Days to Start Business</th>\n",
       "      <th>Ease of Business</th>\n",
       "      <th>Energy Usage</th>\n",
       "      <th>GDP</th>\n",
       "      <th>Health Exp % GDP</th>\n",
       "      <th>Health Exp/Capita</th>\n",
       "      <th>...</th>\n",
       "      <th>Population 0-14</th>\n",
       "      <th>Population 15-64</th>\n",
       "      <th>Population 65+</th>\n",
       "      <th>Population Total</th>\n",
       "      <th>Population Urban</th>\n",
       "      <th>Region</th>\n",
       "      <th>Tourism Inbound</th>\n",
       "      <th>Tourism Outbound</th>\n",
       "      <th>Year</th>\n",
       "      <th>Header</th>\n",
       "    </tr>\n",
       "  </thead>\n",
       "  <tbody>\n",
       "    <tr>\n",
       "      <th>0</th>\n",
       "      <td>0.020</td>\n",
       "      <td>NaN</td>\n",
       "      <td>87931.0</td>\n",
       "      <td>Algeria</td>\n",
       "      <td>NaN</td>\n",
       "      <td>NaN</td>\n",
       "      <td>26998.0</td>\n",
       "      <td>$54,790,058,957</td>\n",
       "      <td>0.035</td>\n",
       "      <td>$60</td>\n",
       "      <td>...</td>\n",
       "      <td>0.342</td>\n",
       "      <td>0.619</td>\n",
       "      <td>0.039</td>\n",
       "      <td>31719449</td>\n",
       "      <td>0.599</td>\n",
       "      <td>Africa</td>\n",
       "      <td>$102,000,000</td>\n",
       "      <td>$193,000,000</td>\n",
       "      <td>01/12/2000</td>\n",
       "      <td>Data</td>\n",
       "    </tr>\n",
       "    <tr>\n",
       "      <th>1</th>\n",
       "      <td>0.050</td>\n",
       "      <td>NaN</td>\n",
       "      <td>9542.0</td>\n",
       "      <td>Angola</td>\n",
       "      <td>NaN</td>\n",
       "      <td>NaN</td>\n",
       "      <td>7499.0</td>\n",
       "      <td>$9,129,594,819</td>\n",
       "      <td>0.034</td>\n",
       "      <td>$22</td>\n",
       "      <td>...</td>\n",
       "      <td>0.476</td>\n",
       "      <td>0.499</td>\n",
       "      <td>0.025</td>\n",
       "      <td>13924930</td>\n",
       "      <td>0.324</td>\n",
       "      <td>Africa</td>\n",
       "      <td>$34,000,000</td>\n",
       "      <td>$146,000,000</td>\n",
       "      <td>01/12/2000</td>\n",
       "      <td>Data</td>\n",
       "    </tr>\n",
       "    <tr>\n",
       "      <th>2</th>\n",
       "      <td>0.043</td>\n",
       "      <td>NaN</td>\n",
       "      <td>1617.0</td>\n",
       "      <td>Benin</td>\n",
       "      <td>NaN</td>\n",
       "      <td>NaN</td>\n",
       "      <td>1983.0</td>\n",
       "      <td>$2,359,122,303</td>\n",
       "      <td>0.043</td>\n",
       "      <td>$15</td>\n",
       "      <td>...</td>\n",
       "      <td>0.454</td>\n",
       "      <td>0.517</td>\n",
       "      <td>0.029</td>\n",
       "      <td>6949366</td>\n",
       "      <td>0.383</td>\n",
       "      <td>Africa</td>\n",
       "      <td>$77,000,000</td>\n",
       "      <td>$50,000,000</td>\n",
       "      <td>01/12/2000</td>\n",
       "      <td>Data</td>\n",
       "    </tr>\n",
       "    <tr>\n",
       "      <th>3</th>\n",
       "      <td>0.027</td>\n",
       "      <td>NaN</td>\n",
       "      <td>4276.0</td>\n",
       "      <td>Botswana</td>\n",
       "      <td>NaN</td>\n",
       "      <td>NaN</td>\n",
       "      <td>1836.0</td>\n",
       "      <td>$5,788,311,645</td>\n",
       "      <td>0.047</td>\n",
       "      <td>$152</td>\n",
       "      <td>...</td>\n",
       "      <td>0.383</td>\n",
       "      <td>0.587</td>\n",
       "      <td>0.029</td>\n",
       "      <td>1755375</td>\n",
       "      <td>0.532</td>\n",
       "      <td>Africa</td>\n",
       "      <td>$227,000,000</td>\n",
       "      <td>$209,000,000</td>\n",
       "      <td>01/12/2000</td>\n",
       "      <td>Data</td>\n",
       "    </tr>\n",
       "    <tr>\n",
       "      <th>4</th>\n",
       "      <td>0.046</td>\n",
       "      <td>NaN</td>\n",
       "      <td>1041.0</td>\n",
       "      <td>Burkina Faso</td>\n",
       "      <td>NaN</td>\n",
       "      <td>NaN</td>\n",
       "      <td>NaN</td>\n",
       "      <td>$2,610,959,139</td>\n",
       "      <td>0.051</td>\n",
       "      <td>$12</td>\n",
       "      <td>...</td>\n",
       "      <td>0.468</td>\n",
       "      <td>0.505</td>\n",
       "      <td>0.028</td>\n",
       "      <td>11607944</td>\n",
       "      <td>0.178</td>\n",
       "      <td>Africa</td>\n",
       "      <td>$23,000,000</td>\n",
       "      <td>$30,000,000</td>\n",
       "      <td>01/12/2000</td>\n",
       "      <td>Data</td>\n",
       "    </tr>\n",
       "  </tbody>\n",
       "</table>\n",
       "<p>5 rows × 28 columns</p>\n",
       "</div>"
      ],
      "text/plain": [
       "   Birth Rate Business Tax Rate  CO2 Emissions       Country  \\\n",
       "0       0.020               NaN        87931.0       Algeria   \n",
       "1       0.050               NaN         9542.0        Angola   \n",
       "2       0.043               NaN         1617.0         Benin   \n",
       "3       0.027               NaN         4276.0      Botswana   \n",
       "4       0.046               NaN         1041.0  Burkina Faso   \n",
       "\n",
       "   Days to Start Business  Ease of Business  Energy Usage              GDP  \\\n",
       "0                     NaN               NaN       26998.0  $54,790,058,957   \n",
       "1                     NaN               NaN        7499.0   $9,129,594,819   \n",
       "2                     NaN               NaN        1983.0   $2,359,122,303   \n",
       "3                     NaN               NaN        1836.0   $5,788,311,645   \n",
       "4                     NaN               NaN           NaN   $2,610,959,139   \n",
       "\n",
       "   Health Exp % GDP Health Exp/Capita  ...  Population 0-14  Population 15-64  \\\n",
       "0             0.035               $60  ...            0.342             0.619   \n",
       "1             0.034               $22  ...            0.476             0.499   \n",
       "2             0.043               $15  ...            0.454             0.517   \n",
       "3             0.047              $152  ...            0.383             0.587   \n",
       "4             0.051               $12  ...            0.468             0.505   \n",
       "\n",
       "   Population 65+  Population Total  Population Urban  Region  \\\n",
       "0           0.039          31719449             0.599  Africa   \n",
       "1           0.025          13924930             0.324  Africa   \n",
       "2           0.029           6949366             0.383  Africa   \n",
       "3           0.029           1755375             0.532  Africa   \n",
       "4           0.028          11607944             0.178  Africa   \n",
       "\n",
       "   Tourism Inbound  Tourism Outbound        Year  Header  \n",
       "0     $102,000,000      $193,000,000  01/12/2000    Data  \n",
       "1      $34,000,000      $146,000,000  01/12/2000    Data  \n",
       "2      $77,000,000       $50,000,000  01/12/2000    Data  \n",
       "3     $227,000,000      $209,000,000  01/12/2000    Data  \n",
       "4      $23,000,000       $30,000,000  01/12/2000    Data  \n",
       "\n",
       "[5 rows x 28 columns]"
      ]
     },
     "execution_count": 16,
     "metadata": {},
     "output_type": "execute_result"
    }
   ],
   "source": [
    "df.head()"
   ]
  },
  {
   "cell_type": "code",
   "execution_count": null,
   "id": "416abf70-c282-46f2-968b-0d06fa2fc4c9",
   "metadata": {},
   "outputs": [],
   "source": []
  },
  {
   "cell_type": "code",
   "execution_count": 40,
   "id": "bdf8f8c5-da8a-4878-b562-d35698b03944",
   "metadata": {},
   "outputs": [
    {
     "data": {
      "text/html": [
       "<div>\n",
       "<style scoped>\n",
       "    .dataframe tbody tr th:only-of-type {\n",
       "        vertical-align: middle;\n",
       "    }\n",
       "\n",
       "    .dataframe tbody tr th {\n",
       "        vertical-align: top;\n",
       "    }\n",
       "\n",
       "    .dataframe thead th {\n",
       "        text-align: right;\n",
       "    }\n",
       "</style>\n",
       "<table border=\"1\" class=\"dataframe\">\n",
       "  <thead>\n",
       "    <tr style=\"text-align: right;\">\n",
       "      <th></th>\n",
       "      <th>Birth Rate</th>\n",
       "      <th>Business Tax Rate</th>\n",
       "      <th>CO2 Emissions</th>\n",
       "      <th>Country</th>\n",
       "      <th>Days to Start Business</th>\n",
       "      <th>Ease of Business</th>\n",
       "      <th>Energy Usage</th>\n",
       "      <th>GDP</th>\n",
       "      <th>Health Exp % GDP</th>\n",
       "      <th>Health Exp/Capita</th>\n",
       "      <th>...</th>\n",
       "      <th>Population 0-14</th>\n",
       "      <th>Population 15-64</th>\n",
       "      <th>Population 65+</th>\n",
       "      <th>Population Total</th>\n",
       "      <th>Population Urban</th>\n",
       "      <th>Region</th>\n",
       "      <th>Tourism Inbound</th>\n",
       "      <th>Tourism Outbound</th>\n",
       "      <th>Year</th>\n",
       "      <th>Header</th>\n",
       "    </tr>\n",
       "  </thead>\n",
       "  <tbody>\n",
       "    <tr>\n",
       "      <th>2699</th>\n",
       "      <td>NaN</td>\n",
       "      <td>NaN</td>\n",
       "      <td>NaN</td>\n",
       "      <td>Turks and Caicos Islands</td>\n",
       "      <td>NaN</td>\n",
       "      <td>NaN</td>\n",
       "      <td>NaN</td>\n",
       "      <td>NaN</td>\n",
       "      <td>NaN</td>\n",
       "      <td>NaN</td>\n",
       "      <td>...</td>\n",
       "      <td>NaN</td>\n",
       "      <td>NaN</td>\n",
       "      <td>NaN</td>\n",
       "      <td>32427</td>\n",
       "      <td>0.911</td>\n",
       "      <td>The Americas</td>\n",
       "      <td>NaN</td>\n",
       "      <td>NaN</td>\n",
       "      <td>01/12/2012</td>\n",
       "      <td>Data</td>\n",
       "    </tr>\n",
       "    <tr>\n",
       "      <th>2700</th>\n",
       "      <td>0.013</td>\n",
       "      <td>46.4%</td>\n",
       "      <td>NaN</td>\n",
       "      <td>United States</td>\n",
       "      <td>5.0</td>\n",
       "      <td>4.0</td>\n",
       "      <td>2132446.0</td>\n",
       "      <td>$16,244,600,000,000</td>\n",
       "      <td>0.179</td>\n",
       "      <td>$8,895</td>\n",
       "      <td>...</td>\n",
       "      <td>0.196</td>\n",
       "      <td>0.667</td>\n",
       "      <td>0.136</td>\n",
       "      <td>313873685</td>\n",
       "      <td>0.811</td>\n",
       "      <td>The Americas</td>\n",
       "      <td>$200,092,000,000</td>\n",
       "      <td>$126,573,000,000</td>\n",
       "      <td>01/12/2012</td>\n",
       "      <td>Data</td>\n",
       "    </tr>\n",
       "    <tr>\n",
       "      <th>2701</th>\n",
       "      <td>0.015</td>\n",
       "      <td>41.9%</td>\n",
       "      <td>NaN</td>\n",
       "      <td>Uruguay</td>\n",
       "      <td>7.0</td>\n",
       "      <td>85.0</td>\n",
       "      <td>NaN</td>\n",
       "      <td>$50,004,354,667</td>\n",
       "      <td>0.089</td>\n",
       "      <td>$1,308</td>\n",
       "      <td>...</td>\n",
       "      <td>0.220</td>\n",
       "      <td>0.639</td>\n",
       "      <td>0.140</td>\n",
       "      <td>3395253</td>\n",
       "      <td>0.948</td>\n",
       "      <td>The Americas</td>\n",
       "      <td>$2,222,000,000</td>\n",
       "      <td>$1,028,000,000</td>\n",
       "      <td>01/12/2012</td>\n",
       "      <td>Data</td>\n",
       "    </tr>\n",
       "    <tr>\n",
       "      <th>2702</th>\n",
       "      <td>0.020</td>\n",
       "      <td>61.9%</td>\n",
       "      <td>NaN</td>\n",
       "      <td>Venezuela, RB</td>\n",
       "      <td>144.0</td>\n",
       "      <td>180.0</td>\n",
       "      <td>NaN</td>\n",
       "      <td>$381,286,223,859</td>\n",
       "      <td>0.046</td>\n",
       "      <td>$593</td>\n",
       "      <td>...</td>\n",
       "      <td>0.288</td>\n",
       "      <td>0.652</td>\n",
       "      <td>0.060</td>\n",
       "      <td>29954782</td>\n",
       "      <td>0.889</td>\n",
       "      <td>The Americas</td>\n",
       "      <td>$904,000,000</td>\n",
       "      <td>$3,202,000,000</td>\n",
       "      <td>01/12/2012</td>\n",
       "      <td>Data</td>\n",
       "    </tr>\n",
       "    <tr>\n",
       "      <th>2703</th>\n",
       "      <td>0.011</td>\n",
       "      <td>NaN</td>\n",
       "      <td>NaN</td>\n",
       "      <td>Virgin Islands (U.S.)</td>\n",
       "      <td>NaN</td>\n",
       "      <td>NaN</td>\n",
       "      <td>NaN</td>\n",
       "      <td>NaN</td>\n",
       "      <td>NaN</td>\n",
       "      <td>NaN</td>\n",
       "      <td>...</td>\n",
       "      <td>0.206</td>\n",
       "      <td>0.641</td>\n",
       "      <td>0.152</td>\n",
       "      <td>105275</td>\n",
       "      <td>0.949</td>\n",
       "      <td>The Americas</td>\n",
       "      <td>NaN</td>\n",
       "      <td>NaN</td>\n",
       "      <td>01/12/2012</td>\n",
       "      <td>Data</td>\n",
       "    </tr>\n",
       "  </tbody>\n",
       "</table>\n",
       "<p>5 rows × 28 columns</p>\n",
       "</div>"
      ],
      "text/plain": [
       "      Birth Rate Business Tax Rate  CO2 Emissions                   Country  \\\n",
       "2699         NaN               NaN            NaN  Turks and Caicos Islands   \n",
       "2700       0.013             46.4%            NaN             United States   \n",
       "2701       0.015             41.9%            NaN                   Uruguay   \n",
       "2702       0.020             61.9%            NaN             Venezuela, RB   \n",
       "2703       0.011               NaN            NaN     Virgin Islands (U.S.)   \n",
       "\n",
       "      Days to Start Business  Ease of Business  Energy Usage  \\\n",
       "2699                     NaN               NaN           NaN   \n",
       "2700                     5.0               4.0     2132446.0   \n",
       "2701                     7.0              85.0           NaN   \n",
       "2702                   144.0             180.0           NaN   \n",
       "2703                     NaN               NaN           NaN   \n",
       "\n",
       "                      GDP  Health Exp % GDP Health Exp/Capita  ...  \\\n",
       "2699                  NaN               NaN               NaN  ...   \n",
       "2700  $16,244,600,000,000             0.179            $8,895  ...   \n",
       "2701      $50,004,354,667             0.089            $1,308  ...   \n",
       "2702     $381,286,223,859             0.046              $593  ...   \n",
       "2703                  NaN               NaN               NaN  ...   \n",
       "\n",
       "      Population 0-14  Population 15-64  Population 65+  Population Total  \\\n",
       "2699              NaN               NaN             NaN             32427   \n",
       "2700            0.196             0.667           0.136         313873685   \n",
       "2701            0.220             0.639           0.140           3395253   \n",
       "2702            0.288             0.652           0.060          29954782   \n",
       "2703            0.206             0.641           0.152            105275   \n",
       "\n",
       "      Population Urban        Region   Tourism Inbound  Tourism Outbound  \\\n",
       "2699             0.911  The Americas               NaN               NaN   \n",
       "2700             0.811  The Americas  $200,092,000,000  $126,573,000,000   \n",
       "2701             0.948  The Americas    $2,222,000,000    $1,028,000,000   \n",
       "2702             0.889  The Americas      $904,000,000    $3,202,000,000   \n",
       "2703             0.949  The Americas               NaN               NaN   \n",
       "\n",
       "            Year  Header  \n",
       "2699  01/12/2012    Data  \n",
       "2700  01/12/2012    Data  \n",
       "2701  01/12/2012    Data  \n",
       "2702  01/12/2012    Data  \n",
       "2703  01/12/2012    Data  \n",
       "\n",
       "[5 rows x 28 columns]"
      ]
     },
     "execution_count": 40,
     "metadata": {},
     "output_type": "execute_result"
    }
   ],
   "source": [
    "df.tail()"
   ]
  },
  {
   "cell_type": "code",
   "execution_count": null,
   "id": "bac7bbe0-02f3-475a-bd35-86f12550139f",
   "metadata": {},
   "outputs": [],
   "source": []
  },
  {
   "cell_type": "code",
   "execution_count": null,
   "id": "cc2d5c20-6ab9-4de6-a540-b35bdb983dbc",
   "metadata": {},
   "outputs": [],
   "source": []
  },
  {
   "cell_type": "code",
   "execution_count": 44,
   "id": "0b23dfd3-ecc5-4d43-b359-2fa8b4c9f120",
   "metadata": {},
   "outputs": [
    {
     "name": "stdout",
     "output_type": "stream",
     "text": [
      "     Country  Birth Rate\n",
      "35     Niger       0.053\n",
      "243    Niger       0.053\n",
      "451    Niger       0.052\n",
      "659    Niger       0.052\n",
      "867    Niger       0.052\n",
      "8       Chad       0.051\n",
      "216     Chad       0.051\n",
      "424     Chad       0.051\n",
      "1075   Niger       0.051\n",
      "1283   Niger       0.051\n"
     ]
    }
   ],
   "source": [
    "top_10_countries = df.nlargest(10, 'Birth Rate')\n",
    "\n",
    "# Output the top 10 countries by tourism revenue\n",
    "print(top_10_countries[['Country', 'Birth Rate']])\n"
   ]
  },
  {
   "cell_type": "code",
   "execution_count": null,
   "id": "c1f9dcf2-d886-4456-b014-a5400637672b",
   "metadata": {},
   "outputs": [],
   "source": []
  }
 ],
 "metadata": {
  "kernelspec": {
   "display_name": "Python 3 (ipykernel)",
   "language": "python",
   "name": "python3"
  },
  "language_info": {
   "codemirror_mode": {
    "name": "ipython",
    "version": 3
   },
   "file_extension": ".py",
   "mimetype": "text/x-python",
   "name": "python",
   "nbconvert_exporter": "python",
   "pygments_lexer": "ipython3",
   "version": "3.11.7"
  }
 },
 "nbformat": 4,
 "nbformat_minor": 5
}
